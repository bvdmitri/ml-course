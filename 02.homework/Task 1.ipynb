{
 "cells": [
  {
   "cell_type": "code",
   "execution_count": 7,
   "metadata": {},
   "outputs": [],
   "source": [
    "import numpy as np\n",
    "from numpy.linalg import norm\n",
    "\n",
    "class InitialData:\n",
    "    def __init__(self, u0 = None, v0 = None):\n",
    "        self.u0 = u0\n",
    "        self.v0 = v0\n",
    "        \n",
    "    def randomize(self, size, rank):\n",
    "        self.u0 = np.random.rand(int(rank / 2), size)\n",
    "        self.v0 = np.random.rand(rank / 2, size)\n",
    "        \n",
    "        \n",
    "class SolverSettings:\n",
    "    def __init__(self, stepU, stepV, dynamicStep = False, stepUpdateWith = 0.95, stepEps = 1e-1, eps = 1e-4, maxIterations = 500):\n",
    "        self.stepU = stepU\n",
    "        self.stepV = stepV\n",
    "        self.dynamicStep = dynamicStep\n",
    "        self.stepUpdateWith = stepUpdateWith\n",
    "        self.stepEps = stepEps\n",
    "        self.eps = eps\n",
    "        self.maxIterations = maxIterations\n",
    "        \n",
    "class Function:    \n",
    "    def generate(self, X):\n",
    "        self._F = self.generateFunction(X)\n",
    "        self._gradientU = self.generateGradientU(X)\n",
    "        self._gradientUFixed = self.generateGradientUFixed(X)\n",
    "        self._gradientV = self.generateGradientV(X)\n",
    "        self._gradientVFixed = self.generateGradientVFixed(X)\n",
    "    \n",
    "    def generateFunction(self, X):\n",
    "        return lambda u, v: np.linalg.norm(X - u.T.dot(v), ord='fro')\n",
    "\n",
    "    def generateGradientU(self, X):\n",
    "        return lambda u, v: -2.0 * v.dot(X.T - v.T.dot(u))\n",
    "\n",
    "    def generateGradientUFixed(self, X):\n",
    "        return lambda v: np.linalg.inv(v.dot(v.T)).dot(v.dot(X.T))  \n",
    "    \n",
    "    def generateGradientV(self, X):\n",
    "        return lambda u, v: -2.0 * u.dot(X - u.T.dot(v))\n",
    "    \n",
    "    def generateGradientVFixed(self, X):\n",
    "        return lambda u: np.linalg.inv(u.dot(u.T)).dot(u.dot(X))\n",
    "        \n",
    "    def apply(self, u, v):\n",
    "        return self._F(u, v)\n",
    "    \n",
    "    def gradientU(self, u, v):\n",
    "        return self._gradientU(u, v)\n",
    "    \n",
    "    def gradientUFixed(self, v):\n",
    "        return self._gradientUFixed(v)\n",
    "    \n",
    "    def gradientV(self, u, v):\n",
    "        return self._gradientV(u, v)\n",
    "    \n",
    "    def gradientVFixed(self, u):\n",
    "        return self._gradientVFixed(u)\n",
    "    "
   ]
  },
  {
   "cell_type": "code",
   "execution_count": 8,
   "metadata": {},
   "outputs": [],
   "source": [
    "class GradientDescentSolver:\n",
    "    u = None\n",
    "    v = None\n",
    "    points = None\n",
    "    iters = None\n",
    "    \n",
    "    def __init__(self, f, settings):\n",
    "        self.f = f\n",
    "        self.settings = settings\n",
    "        \n",
    "    def solve(self, initial):\n",
    "        u = initial.u0\n",
    "        v = initial.v0\n",
    "        points = [self.f.apply(u, v)]\n",
    "        errorU = 1.0\n",
    "        errorV = 1.0\n",
    "        stepU = self.settings.stepU\n",
    "        stepV = self.settings.stepV\n",
    "        eps = self.settings.eps\n",
    "        currentIteration = 0\n",
    "        maxIterations = self.settings.maxIterations\n",
    "        while errorU > eps and errorV > eps and currentIteration < maxIterations:\n",
    "            previousU = u\n",
    "            previousV = v\n",
    "            \n",
    "            gradientU = self.f.gradientU(u, v)\n",
    "            previousFUV = self.f.apply(u, v)\n",
    "            u = u - stepU * gradientU\n",
    "            if self.settings.dynamicStep:\n",
    "                FUV = self.f.apply(u, v)\n",
    "                error = norm(gradientU, 2)\n",
    "                while FUV > previousFUV - self.settings.stepEps * stepU * (error ** 2):\n",
    "                    stepU = stepU * self.settings.stepUpdateWith\n",
    "                    FUV = self.f.apply(previousU - stepU * gradientU, v)\n",
    "                u = previousU - stepU * gradientU\n",
    "                \n",
    "            gradientV = self.f.gradientV(u, v)\n",
    "            previousFUV = self.f.apply(u, v)\n",
    "            v = v - stepV * gradientV\n",
    "            if (self.settings.dynamicStep):\n",
    "                FUV = self.f.apply(u, v)\n",
    "                error = norm(gradientV, 2)\n",
    "                while FUV > previousFUV - self.settings.stepEps * stepV * (error ** 2):\n",
    "                    stepV = stepV * self.settings.stepUpdateWith\n",
    "                    FUV = self.f.apply(u, previousV - stepV * gradientV)\n",
    "                v = previousV - stepV * gradientV\n",
    "                \n",
    "            points.append(self.f.apply(u, v))\n",
    "            \n",
    "            errorU = norm(self.f.gradientU(u, v), 2)\n",
    "            errorV = norm(self.f.gradientV(u, v), 2)\n",
    "            currentIteration = currentIteration + 1\n",
    "        self.u = u\n",
    "        self.v = v\n",
    "        self.points = points\n",
    "        self.iters = currentIteration\n",
    "        \n",
    "    def getPlotPoints(self):\n",
    "        return self.points\n",
    "    \n",
    "    def getIterationsNumber(self):\n",
    "        return self.iters"
   ]
  },
  {
   "cell_type": "code",
   "execution_count": 9,
   "metadata": {},
   "outputs": [],
   "source": [
    "class ALSSolver:\n",
    "    u = None\n",
    "    v = None\n",
    "    points = None\n",
    "    iters = None\n",
    "    \n",
    "    def __init__(self, f, settings):\n",
    "        self.f = f\n",
    "        self.settings = settings\n",
    "        \n",
    "    def solve(self, initial):\n",
    "        u = initial.u0\n",
    "        v = initial.v0\n",
    "        points = [self.f.apply(u, v)]\n",
    "        errorU = 1.0\n",
    "        errorV = 1.0\n",
    "        eps = self.settings.eps\n",
    "        currentIteration = 0\n",
    "        maxIterations = self.settings.maxIterations\n",
    "        while errorU > eps and errorV > eps and currentIteration < maxIterations:\n",
    "            previousU = u\n",
    "            previousV = v\n",
    "            \n",
    "            u = self.f.gradientUFixed(v)\n",
    "            v = self.f.gradientVFixed(u)\n",
    "            points.append(self.f.apply(u, v))\n",
    "            errorU = norm(previousU - u, 2) / norm(u, 2)\n",
    "            errorV = norm(previousV - v, 2) / norm(v, 2)\n",
    "            currentIteration += 1\n",
    "            \n",
    "        self.u = u\n",
    "        self.v = v\n",
    "        self.points = points\n",
    "        self.iters = currentIteration\n",
    "        \n",
    "    def getPlotPoints(self):\n",
    "        return self.points\n",
    "    \n",
    "    def getIterationsNumber(self):\n",
    "        return self.iters"
   ]
  },
  {
   "cell_type": "code",
   "execution_count": 10,
   "metadata": {},
   "outputs": [],
   "source": [
    "def generateLowRankMatrix(size, rank):\n",
    "    matrix = np.zeros((size, size))\n",
    "    for i in range(rank):\n",
    "        a = np.random.rand(size, 1)\n",
    "        b = np.random.rand(1, size)\n",
    "        matrix = matrix + a.dot(b)\n",
    "    return matrix"
   ]
  },
  {
   "cell_type": "code",
   "execution_count": 11,
   "metadata": {
    "scrolled": false
   },
   "outputs": [
    {
     "ename": "TypeError",
     "evalue": "'float' object cannot be interpreted as an integer",
     "output_type": "error",
     "traceback": [
      "\u001b[0;31m---------------------------------------------------------------------------\u001b[0m",
      "\u001b[0;31mTypeError\u001b[0m                                 Traceback (most recent call last)",
      "\u001b[0;32m<ipython-input-11-cebe56fea82f>\u001b[0m in \u001b[0;36m<module>\u001b[0;34m()\u001b[0m\n\u001b[1;32m     11\u001b[0m \u001b[0;34m\u001b[0m\u001b[0m\n\u001b[1;32m     12\u001b[0m     \u001b[0minitial\u001b[0m \u001b[0;34m=\u001b[0m \u001b[0mInitialData\u001b[0m\u001b[0;34m(\u001b[0m\u001b[0;34m)\u001b[0m\u001b[0;34m\u001b[0m\u001b[0m\n\u001b[0;32m---> 13\u001b[0;31m     \u001b[0minitial\u001b[0m\u001b[0;34m.\u001b[0m\u001b[0mrandomize\u001b[0m\u001b[0;34m(\u001b[0m\u001b[0msize\u001b[0m\u001b[0;34m,\u001b[0m \u001b[0mrank\u001b[0m\u001b[0;34m)\u001b[0m\u001b[0;34m\u001b[0m\u001b[0m\n\u001b[0m\u001b[1;32m     14\u001b[0m \u001b[0;34m\u001b[0m\u001b[0m\n\u001b[1;32m     15\u001b[0m     \u001b[0msettingsFixed\u001b[0m \u001b[0;34m=\u001b[0m \u001b[0mSolverSettings\u001b[0m\u001b[0;34m(\u001b[0m\u001b[0;36m5e-4\u001b[0m\u001b[0;34m,\u001b[0m \u001b[0;36m5e-4\u001b[0m\u001b[0;34m,\u001b[0m \u001b[0mmaxIterations\u001b[0m \u001b[0;34m=\u001b[0m \u001b[0;36m100\u001b[0m\u001b[0;34m)\u001b[0m\u001b[0;34m\u001b[0m\u001b[0m\n",
      "\u001b[0;32m<ipython-input-7-1cf92754bbed>\u001b[0m in \u001b[0;36mrandomize\u001b[0;34m(self, size, rank)\u001b[0m\n\u001b[1;32m      8\u001b[0m \u001b[0;34m\u001b[0m\u001b[0m\n\u001b[1;32m      9\u001b[0m     \u001b[0;32mdef\u001b[0m \u001b[0mrandomize\u001b[0m\u001b[0;34m(\u001b[0m\u001b[0mself\u001b[0m\u001b[0;34m,\u001b[0m \u001b[0msize\u001b[0m\u001b[0;34m,\u001b[0m \u001b[0mrank\u001b[0m\u001b[0;34m)\u001b[0m\u001b[0;34m:\u001b[0m\u001b[0;34m\u001b[0m\u001b[0m\n\u001b[0;32m---> 10\u001b[0;31m         \u001b[0mself\u001b[0m\u001b[0;34m.\u001b[0m\u001b[0mu0\u001b[0m \u001b[0;34m=\u001b[0m \u001b[0mnp\u001b[0m\u001b[0;34m.\u001b[0m\u001b[0mrandom\u001b[0m\u001b[0;34m.\u001b[0m\u001b[0mrand\u001b[0m\u001b[0;34m(\u001b[0m\u001b[0mrank\u001b[0m \u001b[0;34m/\u001b[0m \u001b[0;36m2\u001b[0m\u001b[0;34m,\u001b[0m \u001b[0msize\u001b[0m\u001b[0;34m)\u001b[0m\u001b[0;34m\u001b[0m\u001b[0m\n\u001b[0m\u001b[1;32m     11\u001b[0m         \u001b[0mself\u001b[0m\u001b[0;34m.\u001b[0m\u001b[0mv0\u001b[0m \u001b[0;34m=\u001b[0m \u001b[0mnp\u001b[0m\u001b[0;34m.\u001b[0m\u001b[0mrandom\u001b[0m\u001b[0;34m.\u001b[0m\u001b[0mrand\u001b[0m\u001b[0;34m(\u001b[0m\u001b[0mrank\u001b[0m \u001b[0;34m/\u001b[0m \u001b[0;36m2\u001b[0m\u001b[0;34m,\u001b[0m \u001b[0msize\u001b[0m\u001b[0;34m)\u001b[0m\u001b[0;34m\u001b[0m\u001b[0m\n\u001b[1;32m     12\u001b[0m \u001b[0;34m\u001b[0m\u001b[0m\n",
      "\u001b[0;32mmtrand.pyx\u001b[0m in \u001b[0;36mmtrand.RandomState.rand\u001b[0;34m()\u001b[0m\n",
      "\u001b[0;32mmtrand.pyx\u001b[0m in \u001b[0;36mmtrand.RandomState.random_sample\u001b[0;34m()\u001b[0m\n",
      "\u001b[0;32mmtrand.pyx\u001b[0m in \u001b[0;36mmtrand.cont0_array\u001b[0;34m()\u001b[0m\n",
      "\u001b[0;31mTypeError\u001b[0m: 'float' object cannot be interpreted as an integer"
     ]
    }
   ],
   "source": [
    "%matplotlib inline\n",
    "import matplotlib.pyplot as plt\n",
    "\n",
    "size = 100\n",
    "ranks = [5, 10, 15, 20, 25, 30]\n",
    "\n",
    "for rank in ranks:\n",
    "    matrix = generateLowRankMatrix(size, rank)\n",
    "    function = Function()\n",
    "    function.generate(matrix)\n",
    "\n",
    "    initial = InitialData()\n",
    "    initial.randomize(size, rank)\n",
    "\n",
    "    settingsFixed = SolverSettings(5e-4, 5e-4, maxIterations = 100)\n",
    "    settingsDynamic = SolverSettings(1.0, 1.0, True, 0.95, 1e-3, maxIterations = 100)\n",
    "    \n",
    "    solverFixed = GradientDescentSolver(function, settingsFixed)\n",
    "    solverFixed.solve(initial)\n",
    "    solverDynamic = GradientDescentSolver(function, settingsDynamic)\n",
    "    solverDynamic.solve(initial)\n",
    "    solverALS = ALSSolver(function, settingsFixed)\n",
    "    solverALS.solve(initial)\n",
    "    # print(\"Rank %d completed\" % rank)\n",
    "    \n",
    "    plt.figure(figsize=(10, 8))\n",
    "    plt.plot(solverFixed.getPlotPoints(), label=\"Gradient Descent with fixed step\")\n",
    "    plt.plot(solverDynamic.getPlotPoints(), label=\"Gradient Descent with dynamic step\")\n",
    "    plt.plot(solverALS.getPlotPoints(), label=\"ALS\")\n",
    "    plt.title(\"Convergence comparison (size = ${0}, rank = ${1})\".format(size, rank), fontsize=14)\n",
    "    plt.xlabel(\"Iteration number\", fontsize=12)\n",
    "    plt.yscale(\"log\")\n",
    "    plt.xscale(\"log\")\n",
    "    plt.ylabel(\"F(u, v)\", fontsize=12)\n",
    "    _ = plt.legend()"
   ]
  },
  {
   "cell_type": "code",
   "execution_count": null,
   "metadata": {},
   "outputs": [],
   "source": [
    "print(\"Исследуйте зависимость от начального приближения и объясните её\")"
   ]
  },
  {
   "cell_type": "code",
   "execution_count": 7,
   "metadata": {},
   "outputs": [
    {
     "data": {
      "image/png": "[encoded data removed]",
      "text/plain": [
       "<matplotlib.figure.Figure at 0x7ffa34470910>"
      ]
     },
     "metadata": {},
     "output_type": "display_data"
    }
   ],
   "source": [
    "%matplotlib inline\n",
    "import matplotlib.pyplot as plt\n",
    "\n",
    "size = 100\n",
    "rank = 10\n",
    "\n",
    "XU = np.random.rand(rank, size)\n",
    "XV = np.random.rand(rank, size)\n",
    "X = XU.T.dot(XV)\n",
    "\n",
    "function = Function()\n",
    "function.generate(X)\n",
    "\n",
    "errPoints = []\n",
    "fixedIters = []\n",
    "dynamicIters = []\n",
    "alsIters = []\n",
    "for i in np.arange(0.0, 10.0, 0.05):\n",
    "    u0 = np.random.rand(rank, size)\n",
    "    v0 = np.random.rand(rank, size)\n",
    "\n",
    "    u0 = XU + u0 * (10.0**(-i) / norm(u0, 2))\n",
    "    v0 = XV + v0 * (10.0**(-i) / norm(v0, 2))\n",
    "    errPoints.append(10.0**(-i))\n",
    "    \n",
    "    initial = InitialData(u0, v0)\n",
    "\n",
    "    settingsFixed = SolverSettings(5e-4, 5e-4, maxIterations = 100)\n",
    "    settingsDynamic = SolverSettings(1.0, 1.0, True, 0.95, 1e-3, maxIterations = 100)\n",
    "    \n",
    "    solverFixed = GradientDescentSolver(function, settingsFixed)\n",
    "    solverFixed.solve(initial)\n",
    "    fixedIters.append(solverFixed.getIterationsNumber())\n",
    "    \n",
    "    solverDynamic = GradientDescentSolver(function, settingsDynamic)\n",
    "    solverDynamic.solve(initial)\n",
    "    dynamicIters.append(solverDynamic.getIterationsNumber())\n",
    "    \n",
    "    solverALS = ALSSolver(function, settingsFixed)\n",
    "    solverALS.solve(initial)\n",
    "    alsIters.append(solverALS.getIterationsNumber())\n",
    "    # print(\"Rank %d completed\" % rank)\n",
    "\n",
    "plt.figure(figsize=(10, 8))\n",
    "plt.plot(errPoints, fixedIters, label=\"Gradient Descent with fixed step\")\n",
    "plt.plot(errPoints, dynamicIters, label=\"Gradient Descent with dynamic step\")\n",
    "plt.plot(errPoints, alsIters, label=\"ALS\")\n",
    "plt.title(\"Iterations depending on the initial residual\", fontsize=14)\n",
    "plt.xlabel(\"Initial residual\", fontsize=12)\n",
    "plt.xscale(\"log\")\n",
    "plt.yscale(\"log\")\n",
    "plt.ylabel(\"Iterations\", fontsize=12)\n",
    "_ = plt.legend()\n",
    "    "
   ]
  },
  {
   "cell_type": "markdown",
   "metadata": {},
   "source": [
    "Из графика понятно, что чем ближе начальное приближение, тем быстрее сходится метод градиентного спуска\n"
   ]
  },
  {
   "cell_type": "code",
   "execution_count": 8,
   "metadata": {},
   "outputs": [
    {
     "name": "stdout",
     "output_type": "stream",
     "text": [
      "Рассмотрите различные способы выбора шага в градиентном спуске и сделайте вывод о применимости каждого из них\n"
     ]
    }
   ],
   "source": [
    "print(\"Рассмотрите различные способы выбора шага в градиентном спуске и сделайте вывод о применимости каждого из них\")"
   ]
  },
  {
   "cell_type": "code",
   "execution_count": 52,
   "metadata": {},
   "outputs": [
    {
     "name": "stderr",
     "output_type": "stream",
     "text": [
      "/usr/local/lib/python2.7/dist-packages/ipykernel_launcher.py:39: RuntimeWarning: overflow encountered in multiply\n"
     ]
    }
   ],
   "source": [
    "size = 100\n",
    "rank = 2\n",
    "\n",
    "XU = np.random.rand(rank, size)\n",
    "XV = np.random.rand(rank, size)\n",
    "X = XU.T.dot(XV)\n",
    "\n",
    "function = Function()\n",
    "function.generate(X)\n",
    "\n",
    "u0 = np.random.rand(rank, size)\n",
    "v0 = np.random.rand(rank, size)\n",
    "\n",
    "u0 = XU + u0 * (10.0**(-6) / norm(u0, 2))\n",
    "v0 = XV + v0 * (10.0**(-6) / norm(v0, 2))\n",
    "\n",
    "initial = InitialData(u0, v0)\n",
    "\n",
    "sArray = np.arange(-5.0, 1.0, 0.1)\n",
    "pFixed = []\n",
    "pDynamic = []\n",
    "steps = []\n",
    "for s in sArray:\n",
    "    step = 10 ** s\n",
    "    steps.append(step)\n",
    "    settingsFixed = SolverSettings(step, step, maxIterations = 1000)\n",
    "    solverFixed = GradientDescentSolver(function, settingsFixed)\n",
    "    solverFixed.solve(initial)\n",
    "    \n",
    "    settingsDynamic = SolverSettings(step, step, True, 0.95, 1e-3, maxIterations = 100)\n",
    "    solverDynamic = GradientDescentSolver(function, settingsDynamic)\n",
    "    solverDynamic.solve(initial)\n",
    "    dynamicIters.append(solverDynamic.getIterationsNumber())\n",
    "    \n",
    "    pointsFixed = solverFixed.getPlotPoints()\n",
    "    if (pointsFixed[len(pointsFixed) - 1] < 1.0):\n",
    "        pFixed.append(1.0)\n",
    "    else:\n",
    "        pFixed.append(0.0)    \n",
    "        \n",
    "    pointsDynamic = solverDynamic.getPlotPoints()\n",
    "    if (pointsDynamic[len(pointsDynamic) - 1] < 1.0):\n",
    "        pDynamic.append(1.0)\n",
    "    else:\n",
    "        pDynamic.append(0.0) \n",
    "    #print(step, solverFixed.getIterationsNumber())"
   ]
  },
  {
   "cell_type": "code",
   "execution_count": 53,
   "metadata": {},
   "outputs": [
    {
     "data": {
      "image/png": "[encoded data removed]",
      "text/plain": [
       "<matplotlib.figure.Figure at 0x7ffa2f6534d0>"
      ]
     },
     "metadata": {},
     "output_type": "display_data"
    }
   ],
   "source": [
    "plt.figure(figsize=(10, 8))\n",
    "plt.plot(steps, pFixed, label=\"Gradient Descent with fixed step\")\n",
    "plt.plot(steps, pDynamic, label=\"Gradient Descent with dynamic step\")\n",
    "plt.title(\"Convergence depends of fixed step\", fontsize=14)\n",
    "plt.xlabel(\"Fixed steps\", fontsize=12)\n",
    "plt.xscale(\"log\")\n",
    "plt.ylabel(\"Converger or not\", fontsize=12)\n",
    "_ = plt.legend()"
   ]
  },
  {
   "cell_type": "markdown",
   "metadata": {},
   "source": [
    "Как можно заметить на графике, градиентный спуск с фиксированным шагом перестает сходиться при некотором критическом значениии, в то время как градиентный спуск с динамическим шагом продолжает сходиться"
   ]
  },
  {
   "cell_type": "code",
   "execution_count": null,
   "metadata": {},
   "outputs": [],
   "source": []
  }
 ],
 "metadata": {
  "kernelspec": {
   "display_name": "Python 3",
   "language": "python",
   "name": "python3"
  },
  "language_info": {
   "codemirror_mode": {
    "name": "ipython",
    "version": 3
   },
   "file_extension": ".py",
   "mimetype": "text/x-python",
   "name": "python",
   "nbconvert_exporter": "python",
   "pygments_lexer": "ipython3",
   "version": "3.6.3"
  }
 },
 "nbformat": 4,
 "nbformat_minor": 2
}
