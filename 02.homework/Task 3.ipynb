{
 "cells": [
  {
   "cell_type": "markdown",
   "metadata": {},
   "source": [
    "## Задача 3. Регуляризация\n",
    "\n",
    "1. Сгенерируйте случайную малоранговую матрицу $X$ $500 \\times 100$ ранга $10$\n",
    "2. Сгенерируйте случайный вектор $w$ размера $100$ и целевой вектор \n",
    "$$\n",
    "y = Xw + \\varepsilon,\n",
    "$$\n",
    "где $\\varepsilon$ - вектор с элементами из нормального распределения с нулевым средним и дисперсией $0.01$. \n",
    "3. Сравните разреженность и точность решения, которое дают методы регуляризации рассмотренные на лекции. Сделайте вывод об их эффективности. Рассмотрите, как автоматический подбор параметра регуляризации, так и эвристический подбор. Сравните эффективность методов. \n",
    "4. Проведите аналогичный эксперимент, но на данных, в которых целевой вектор сгенерирован так, что он хорошо аппроксимируется как одним признаком, так и линейной комбинацией двух или трёх других признаков. Выделяют ли методы регуляризации подобные зависимости в данных? Почему?\n",
    "5. Добавьте в сгенерированную выборку несколько (5-10) выбросов, то есть таких строк и соответствующих им значений в $y$, что они не подчиняются ранее заданному закону.\n",
    "6. Проверьте как изменится точность решения задачи для ранее рассмотренных методов\n",
    "7. Сравните предыдущие методы регуляризации с [регуляризацией Huber'a](https://en.wikipedia.org/wiki/Huber_loss). Какой способ устойчивее к выбросам и почему?\n",
    "8. Получите аналитическое решение задачи\n",
    "$$\n",
    "\\min_w \\|Xw - y\\|^2_2 + \\| \\lambda \\odot w \\|^2_2,\n",
    "$$\n",
    "где $\\lambda$ - вектор такой же размерности, что и $w$, $\\odot$ означает поэлементное умножение двух векторов"
   ]
  },
  {
   "cell_type": "markdown",
   "metadata": {},
   "source": [
    "Генерация случайной малоранговой матрицы $X$ $500\\times100$ ранга 10"
   ]
  },
  {
   "cell_type": "code",
   "execution_count": 41,
   "metadata": {},
   "outputs": [],
   "source": [
    "import numpy as np\n",
    "\n",
    "def generateLowRankMatrix(rowsCount, columnCount, rank):\n",
    "    matrix = np.zeros((rowsCount, columnCount))\n",
    "    for i in range(rank):\n",
    "        a = np.random.rand(rowsCount, 1)\n",
    "        b = np.random.rand(1, columnCount)\n",
    "        matrix = matrix + a.dot(b)\n",
    "    return matrix"
   ]
  },
  {
   "cell_type": "code",
   "execution_count": 42,
   "metadata": {},
   "outputs": [],
   "source": [
    "rowsCount = 500\n",
    "columnCount = 100\n",
    "rank = 10\n",
    "matrix = generateLowRankMatrix(rowsCount, columnCount, rank)"
   ]
  },
  {
   "cell_type": "markdown",
   "metadata": {},
   "source": [
    "Генерация случайного вектора $y = Xw + \\varepsilon$"
   ]
  },
  {
   "cell_type": "code",
   "execution_count": 43,
   "metadata": {},
   "outputs": [],
   "source": [
    "w = np.random.rand(columnCount, 1)\n",
    "\n",
    "mean = 0\n",
    "standartDeviation = 0.01\n",
    "eps = np.random.normal(mean, standartDeviation, size = columnCount)\n",
    "\n",
    "y = matrix.dot(w) + eps"
   ]
  },
  {
   "cell_type": "code",
   "execution_count": null,
   "metadata": {},
   "outputs": [],
   "source": []
  },
  {
   "cell_type": "code",
   "execution_count": null,
   "metadata": {},
   "outputs": [],
   "source": []
  }
 ],
 "metadata": {
  "kernelspec": {
   "display_name": "Python 3",
   "language": "python",
   "name": "python3"
  },
  "language_info": {
   "codemirror_mode": {
    "name": "ipython",
    "version": 3
   },
   "file_extension": ".py",
   "mimetype": "text/x-python",
   "name": "python",
   "nbconvert_exporter": "python",
   "pygments_lexer": "ipython3",
   "version": "3.6.3"
  }
 },
 "nbformat": 4,
 "nbformat_minor": 2
}
