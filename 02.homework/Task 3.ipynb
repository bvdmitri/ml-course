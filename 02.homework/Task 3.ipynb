{
 "cells": [
  {
   "cell_type": "markdown",
   "metadata": {},
   "source": [
    "## Задача 3. Регуляризация\n",
    "\n",
    "1. Сгенерируйте случайную малоранговую матрицу $X$ $500 \\times 100$ ранга $10$\n",
    "2. Сгенерируйте случайный вектор $w$ размера $100$ и целевой вектор \n",
    "$$\n",
    "y = Xw + \\varepsilon,\n",
    "$$\n",
    "где $\\varepsilon$ - вектор с элементами из нормального распределения с нулевым средним и дисперсией $0.01$. \n",
    "3. Сравните разреженность и точность решения, которое дают методы регуляризации рассмотренные на лекции. Сделайте вывод об их эффективности. Рассмотрите, как автоматический подбор параметра регуляризации, так и эвристический подбор. Сравните эффективность методов. \n",
    "4. Проведите аналогичный эксперимент, но на данных, в которых целевой вектор сгенерирован так, что он хорошо аппроксимируется как одним признаком, так и линейной комбинацией двух или трёх других признаков. Выделяют ли методы регуляризации подобные зависимости в данных? Почему?\n",
    "5. Добавьте в сгенерированную выборку несколько (5-10) выбросов, то есть таких строк и соответствующих им значений в $y$, что они не подчиняются ранее заданному закону.\n",
    "6. Проверьте как изменится точность решения задачи для ранее рассмотренных методов\n",
    "7. Сравните предыдущие методы регуляризации с [регуляризацией Huber'a](https://en.wikipedia.org/wiki/Huber_loss). Какой способ устойчивее к выбросам и почему?\n",
    "8. Получите аналитическое решение задачи\n",
    "$$\n",
    "\\min_w \\|Xw - y\\|^2_2 + \\| \\lambda \\odot w \\|^2_2,\n",
    "$$\n",
    "где $\\lambda$ - вектор такой же размерности, что и $w$, $\\odot$ означает поэлементное умножение двух векторов"
   ]
  },
  {
   "cell_type": "markdown",
   "metadata": {},
   "source": [
    "Генерация случайной малоранговой матрицы $X$ $500\\times100$ ранга 10"
   ]
  },
  {
   "cell_type": "code",
   "execution_count": 66,
   "metadata": {},
   "outputs": [],
   "source": [
    "import numpy as np\n",
    "\n",
    "def generateLowRankMatrix(rowsCount, columnCount, rank):\n",
    "    matrix = np.zeros((rowsCount, columnCount))\n",
    "    for i in range(rank):\n",
    "        a = np.random.rand(rowsCount, 1)\n",
    "        b = np.random.rand(1, columnCount)\n",
    "        matrix = matrix + a.dot(b)\n",
    "    return matrix"
   ]
  },
  {
   "cell_type": "code",
   "execution_count": 88,
   "metadata": {},
   "outputs": [],
   "source": [
    "rowsCount = 500\n",
    "columnCount = 100\n",
    "rank = 10\n",
    "matrix = generateLowRankMatrix(rowsCount, columnCount, rank)\n",
    "# matrix_U = np.random.rand(rank, rowsCount)\n",
    "# matrix_V = np.random.rand(rank, columnCount)\n",
    "# matrix = matrix_U.T.dot(matrix_V)"
   ]
  },
  {
   "cell_type": "markdown",
   "metadata": {},
   "source": [
    "Генерация случайного вектора $y = Xw + \\varepsilon$"
   ]
  },
  {
   "cell_type": "code",
   "execution_count": 89,
   "metadata": {},
   "outputs": [],
   "source": [
    "%matplotlib inline\n",
    "import matplotlib.pyplot as plt\n",
    "from scipy.stats import norm as normal_distribution\n",
    "w = np.random.rand(columnCount, 1)\n",
    "\n",
    "mean = 0\n",
    "standartDeviation = 0.01\n",
    "eps = np.random.normal(mean, standartDeviation, size = rowsCount)\n",
    "epsr = eps.reshape(rowsCount, 1)\n",
    "\n",
    "mw = matrix.dot(w)\n",
    "y = matrix.dot(w) + epsr"
   ]
  },
  {
   "cell_type": "markdown",
   "metadata": {},
   "source": [
    "Сравните разреженность и точность решения, которое дают методы регуляризации рассмотренные на лекции. Сделайте вывод об их эффективности. Рассмотрите, как автоматический подбор параметра регуляризации, так и эвристический подбор. Сравните эффективность методов."
   ]
  },
  {
   "cell_type": "code",
   "execution_count": 90,
   "metadata": {},
   "outputs": [
    {
     "data": {
      "text/html": [
       "<style>table {width: 100%}</style><table>\n",
       "<tbody>\n",
       "<tr><td><b>Name</b>         </td><td><b>Score (original)</b></td><td><b>Score (with noise)</b></td><td><b>||y_predict - y||</b></td><td><b>wnnz</b></td></tr>\n",
       "<tr><td><b>Lasso</b>        </td><td>0.995060358161         </td><td>0.995057929024           </td><td>38.2828946601           </td><td>7          </td></tr>\n",
       "<tr><td><b>Lasso CV</b>     </td><td>0.999997562831         </td><td>0.999997668911           </td><td>0.83143769747           </td><td>12         </td></tr>\n",
       "<tr><td><b>Ridge</b>        </td><td>0.999999825298         </td><td>0.999999981125           </td><td>0.0748160342711         </td><td>100        </td></tr>\n",
       "<tr><td><b>Ridge CV</b>     </td><td>0.999999837208         </td><td>0.999999997473           </td><td>0.0273729746743         </td><td>100        </td></tr>\n",
       "<tr><td><b>ElasticNet</b>   </td><td>0.997541451345         </td><td>0.997539683719           </td><td>27.0113163628           </td><td>100        </td></tr>\n",
       "<tr><td><b>ElasticNet CV</b></td><td>0.999985489567         </td><td>0.999985441888           </td><td>2.0777955429            </td><td>77         </td></tr>\n",
       "<tr><td><b>Hubber</b>       </td><td>0.999999837235         </td><td>0.999999998469           </td><td>0.0213108250144         </td><td>100        </td></tr>\n",
       "</tbody>\n",
       "</table>"
      ],
      "text/plain": [
       "<IPython.core.display.HTML object>"
      ]
     },
     "metadata": {},
     "output_type": "display_data"
    }
   ],
   "source": [
    "from sklearn import linear_model as models\n",
    "from numpy.linalg import norm\n",
    "from IPython.display import HTML, display\n",
    "import tabulate\n",
    "\n",
    "def bold(s):\n",
    "    return '<b>' + s + '</b>'\n",
    "\n",
    "def modelStats(modelName, matrix, mw_c, y_c):\n",
    "    \n",
    "    mw = mw_c.ravel()\n",
    "    y = y_c.ravel()\n",
    "    \n",
    "    #wtf no switch-case in python mdaa\n",
    "    if modelName == \"Lasso\":\n",
    "        model = models.Lasso(alpha = 1.0, max_iter = 10000)\n",
    "    elif modelName == \"Lasso CV\":\n",
    "        model = models.LassoCV(max_iter = 10000)\n",
    "    elif modelName == \"Ridge\":\n",
    "        model = models.Ridge(alpha = 1.0, max_iter = 10000)\n",
    "    elif modelName == \"Ridge CV\":\n",
    "        model = models.RidgeCV()\n",
    "    elif modelName == \"ElasticNet\":\n",
    "        model = models.ElasticNet(alpha=1.0, l1_ratio=0.1)\n",
    "    elif modelName == \"ElasticNet CV\":\n",
    "        model = models.ElasticNetCV()\n",
    "    elif modelName == \"Hubber\":\n",
    "        model = models.HuberRegressor()\n",
    "        \n",
    "    fit = model.fit(matrix, y)\n",
    "    scoreNoise = fit.score(matrix, mw)\n",
    "    score = fit.score(matrix, y)\n",
    "    predict = norm(model.predict(matrix) - mw, 2)\n",
    "    wNNZ = np.count_nonzero(model.coef_)\n",
    "    return [bold(modelName), score, scoreNoise, predict, wNNZ]\n",
    "\n",
    "table = [map(bold, [\"Name\", \"Score (original)\", \"Score (with noise)\", \"||y_predict - y||\", \"wnnz\"])]\n",
    "table.append(modelStats(\"Lasso\", matrix, mw, y))\n",
    "table.append(modelStats(\"Lasso CV\", matrix, mw, y))\n",
    "table.append(modelStats(\"Ridge\", matrix, mw, y))\n",
    "table.append(modelStats(\"Ridge CV\", matrix, mw, y))\n",
    "table.append(modelStats(\"ElasticNet\", matrix, mw, y))\n",
    "table.append(modelStats(\"ElasticNet CV\", matrix, mw, y))\n",
    "table.append(modelStats(\"Hubber\", matrix, mw, y))\n",
    "\n",
    "def tableFullWidth(rawHTML):\n",
    "    return '<style>table {width: 100%}</style>' + rawHTML\n",
    "\n",
    "display(HTML(tableFullWidth(tabulate.tabulate(table, tablefmt='html'))))"
   ]
  },
  {
   "cell_type": "markdown",
   "metadata": {},
   "source": [
    "Some analysis.... todo"
   ]
  },
  {
   "cell_type": "markdown",
   "metadata": {},
   "source": [
    "Добавьте в сгенерированную выборку несколько (5-10) выбросов, то есть таких строк и соответствующих им значений в  yy , что они не подчиняются ранее заданному закону."
   ]
  },
  {
   "cell_type": "code",
   "execution_count": 91,
   "metadata": {},
   "outputs": [],
   "source": [
    "eps2 = eps.copy()\n",
    "# print(eps2)\n",
    "maxModifications = 25\n",
    "for i in range(maxModifications):\n",
    "    yi = np.random.randint(rowsCount)\n",
    "    r = np.random.chisquare(2, size = 1)[0]\n",
    "    eps2[yi] += 10.0 * r\n",
    "epsr2 = eps2.reshape(rowsCount, 1)\n",
    "\n",
    "y2 = matrix.dot(w) + epsr2"
   ]
  },
  {
   "cell_type": "markdown",
   "metadata": {},
   "source": [
    "Проверьте как изменится точность решения задачи для ранее рассмотренных  методов и сравните предыдущие методы регуляризации с регуляризацией Huber'a. Какой способ устойчивее к выбросам и почему?"
   ]
  },
  {
   "cell_type": "code",
   "execution_count": 92,
   "metadata": {},
   "outputs": [
    {
     "data": {
      "text/html": [
       "<style>table {width: 100%}</style><table>\n",
       "<tbody>\n",
       "<tr><td><b>Name</b>         </td><td><b>Score (original)</b></td><td><b>Score (with noise)</b></td><td><b>||y_predict - y||</b></td><td><b>wnnz</b></td></tr>\n",
       "<tr><td><b>Lasso</b>        </td><td>0.924251917628         </td><td>0.9930617801             </td><td>45.3601319688           </td><td>8          </td></tr>\n",
       "<tr><td><b>Lasso CV</b>     </td><td>0.929013992076         </td><td>0.996532680283           </td><td>32.0661798333           </td><td>14         </td></tr>\n",
       "<tr><td><b>Ridge</b>        </td><td>0.92901625928          </td><td>0.996497215674           </td><td>32.2297530666           </td><td>100        </td></tr>\n",
       "<tr><td><b>Ridge CV</b>     </td><td>0.92901407125          </td><td>0.996583170909           </td><td>31.8318520259           </td><td>100        </td></tr>\n",
       "<tr><td><b>ElasticNet</b>   </td><td>0.926300834361         </td><td>0.996121941071           </td><td>33.9123184138           </td><td>100        </td></tr>\n",
       "<tr><td><b>ElasticNet CV</b></td><td>0.928815151914         </td><td>0.99692350157            </td><td>30.2049852614           </td><td>97         </td></tr>\n",
       "<tr><td><b>Hubber</b>       </td><td>0.925835209356         </td><td>0.999999996281           </td><td>0.0332109254862         </td><td>100        </td></tr>\n",
       "</tbody>\n",
       "</table>"
      ],
      "text/plain": [
       "<IPython.core.display.HTML object>"
      ]
     },
     "metadata": {},
     "output_type": "display_data"
    }
   ],
   "source": [
    "table2 = [map(bold, [\"Name\", \"Score (original)\", \"Score (with noise)\", \"||y_predict - y||\", \"wnnz\"])]\n",
    "table2.append(modelStats(\"Lasso\", matrix, mw, y2))\n",
    "table2.append(modelStats(\"Lasso CV\", matrix, mw, y2))\n",
    "table2.append(modelStats(\"Ridge\", matrix, mw, y2))\n",
    "table2.append(modelStats(\"Ridge CV\", matrix, mw, y2))\n",
    "table2.append(modelStats(\"ElasticNet\", matrix, mw, y2))\n",
    "table2.append(modelStats(\"ElasticNet CV\", matrix, mw, y2))\n",
    "table2.append(modelStats(\"Hubber\", matrix, mw, y2))\n",
    "display(HTML(tableFullWidth(tabulate.tabulate(table2, tablefmt='html'))))"
   ]
  },
  {
   "cell_type": "markdown",
   "metadata": {},
   "source": [
    "Функция потерь Хьюбера менее чувствительна к выбросам, чем все остальные методы"
   ]
  },
  {
   "cell_type": "code",
   "execution_count": null,
   "metadata": {},
   "outputs": [],
   "source": []
  }
 ],
 "metadata": {
  "kernelspec": {
   "display_name": "Python 2",
   "language": "python",
   "name": "python2"
  },
  "language_info": {
   "codemirror_mode": {
    "name": "ipython",
    "version": 2
   },
   "file_extension": ".py",
   "mimetype": "text/x-python",
   "name": "python",
   "nbconvert_exporter": "python",
   "pygments_lexer": "ipython2",
   "version": "2.7.12"
  }
 },
 "nbformat": 4,
 "nbformat_minor": 2
}
